{
 "cells": [
  {
   "cell_type": "markdown",
   "metadata": {},
   "source": [
    "# 📜 Understanding Python Dictionaries\n",
    "This repository provides an example of how to define and work with dictionaries in Python.\n",
    "\n",
    "# 📌 Key Concepts\n",
    "- ✅ Dictionaries – Collections of key-value pairs in Python.\n",
    "- ✅ Ordered (Python 3.7+) – Maintains insertion order.\n",
    "- ✅ Changeable – Allows modification of values.\n",
    "- ✅ No Duplicate Keys – Keys must be unique.\n",
    "\n",
    "# 1. Define Dictionary \n",
    "- Dictionary Structure: Uses key-value pairs to store data efficiently.\n",
    "- Finding Dictionary Length: The len() function returns the number of key-value pairs.\n",
    "- Checking Data Type: The type() function confirms that the variable is a dictionary.\n",
    "- Accessing Values: Using dict[\"key\"], you can retrieve specific values.\n",
    "\n"
   ]
  },
  {
   "cell_type": "code",
   "execution_count": 4,
   "metadata": {},
   "outputs": [
    {
     "name": "stdout",
     "output_type": "stream",
     "text": [
      "Find the length of dictionary: 3\n",
      "Find the Data Type of dictionary: <class 'dict'>\n",
      "This is output: {'brand': 'Ford', 'model': 'Mustang', 'year': 1964}\n",
      "The vehicle brand: Ford\n"
     ]
    }
   ],
   "source": [
    "#Define a Dictionary(ordered or unordered, changeable, Duplicate Not allowed)\n",
    "\n",
    "dict = {\n",
    "  \"brand\": \"Ford\",\n",
    "  \"model\": \"Mustang\",\n",
    "  \"year\": 1964\n",
    "}\n",
    "print(\"Find the length of dictionary:\",len(dict)) # use the len() function:\n",
    "print(\"Find the Data Type of dictionary:\",type(dict)) # data Type\n",
    "print(\"This is output:\",dict)\n",
    "\n",
    "#Print the \"brand\" value of the dictionary\n",
    "dict = {\n",
    "  \"brand\": \"Ford\",\n",
    "  \"model\": \"Mustang\",\n",
    "  \"year\": 1964\n",
    "}\n",
    "print(\"The vehicle brand:\",dict[\"brand\"])"
   ]
  },
  {
   "cell_type": "markdown",
   "metadata": {},
   "source": [
    "# 2. Handling Duplicates in Python Dictionaries\n",
    "- Duplicate Keys Behavior: If a dictionary contains duplicate keys, Python retains only the last value.\n",
    "- Overwriting Values: When a key is reassigned, the previous value is replaced."
   ]
  },
  {
   "cell_type": "code",
   "execution_count": 5,
   "metadata": {},
   "outputs": [
    {
     "name": "stdout",
     "output_type": "stream",
     "text": [
      "Duplicate value are change: {'brand': 'Ford', 'model': 'Mustang', 'year': 2020}\n"
     ]
    }
   ],
   "source": [
    "\n",
    "#Duplicates Not Allowed\n",
    "dict = {\n",
    "  \"brand\": \"Ford\",\n",
    "  \"model\": \"Mustang\",\n",
    "  \"year\": 1964,      #Duplicate values will overwrite existing values\n",
    "  \"year\": 2020\n",
    "}\n",
    "print(\"Duplicate value are change:\",dict)\n",
    "\n",
    "\n"
   ]
  },
  {
   "cell_type": "markdown",
   "metadata": {},
   "source": [
    "# 3. Accessing Items in Python Dictionaries\n",
    "- Using keys(): Returns a list-like view of all dictionary keys.\n",
    "- Using values(): Returns a list-like view of all dictionary values.\n",
    "- Using get(\"key\"): Retrieves the value corresponding to a specific key."
   ]
  },
  {
   "cell_type": "code",
   "execution_count": 6,
   "metadata": {},
   "outputs": [
    {
     "name": "stdout",
     "output_type": "stream",
     "text": [
      "This is key in dictionary: dict_keys(['brand', 'model', 'year'])\n",
      "This is Model: Mustang\n",
      "This is Dictionary values: dict_values(['Ford', 'Mustang', 1964])\n"
     ]
    }
   ],
   "source": [
    "#Access items\n",
    "dict =\t{\n",
    "  \"brand\": \"Ford\",\n",
    "  \"model\": \"Mustang\",\n",
    "  \"year\": 1964\n",
    "}\n",
    "print(\"This is key in dictionary:\",dict.keys()) #using key() function will get a list of the keys:\n",
    "print(\"This is Model:\",dict.get(\"model\")) # using get() function to get the value of the \"model\" key\n",
    "\n",
    "#Values\n",
    "dict =\t{\n",
    "  \"brand\": \"Ford\",\n",
    "  \"model\": \"Mustang\",\n",
    "  \"year\": 1964\n",
    "}\n",
    "print(\"This is Dictionary values:\",dict.values()) #using values() function will get a list of the values\n"
   ]
  },
  {
   "cell_type": "markdown",
   "metadata": {},
   "source": [
    "# 4. Modifying and Checking Keys in Dictionaries\n",
    "- Modifying Values: Directly update dictionary values using key assignment.\n",
    "- Using update(): Allows modifying multiple values at once.\n",
    "- Adding a New Key-Value Pair: Assigning a new key will insert it into the dictionary.\n",
    "- Checking Key Existence: Use the in operator to verify if a key is present before accessing its value.\n",
    "\n"
   ]
  },
  {
   "cell_type": "code",
   "execution_count": 7,
   "metadata": {},
   "outputs": [
    {
     "name": "stdout",
     "output_type": "stream",
     "text": [
      "Before values Function dict_values(['Ford', 'Mustang', 1964])\n",
      "After values Function dict_values(['Ford', 'Mustang', 2020, 'red'])\n",
      "Changes has been completed successfully: {'brand': 'Ford', 'model': 'Mustang', 'year': 2020}\n",
      "Yes, This feature is avialable \n"
     ]
    }
   ],
   "source": [
    "#Change\n",
    "car = {\"brand\": \"Ford\", \"model\": \"Mustang\", \"year\": 1964}\n",
    "print(\"Before values Function\",car.values()) #Before the change 1996\n",
    "car[\"year\"] = 2020\n",
    "car[\"color\"] = \"red\" # Add new item\n",
    "print(\"After values Function\",car.values()) #After the change 2020\n",
    "\n",
    "\n",
    "\n",
    "#Change Values\n",
    "dict = {\n",
    "  \"brand\": \"Ford\",\n",
    "  \"model\": \"Mustang\",\n",
    "  \"year\": 1964\n",
    "}\n",
    "dict.update({\"year\": 2020}) #using update() function\n",
    "print(\"Changes has been completed successfully:\",dict)\n",
    "\n",
    "\n",
    "#Check if Key Exists\n",
    "dict = {\n",
    "  \"brand\": \"Ford\",\n",
    "  \"model\": \"Mustang\",\n",
    "  \"year\": 1964\n",
    "}\n",
    "if \"model\" in dict:\n",
    "  print(\"Yes, This feature is avialable \")\n"
   ]
  },
  {
   "cell_type": "markdown",
   "metadata": {},
   "source": [
    "# 5. Removing Items from Dictionaries\n",
    "- Using pop(): Removes the specified key from the dictionary and returns its value.\n",
    "- Using del: Deletes a key-value pair or the entire dictionary."
   ]
  },
  {
   "cell_type": "code",
   "execution_count": 8,
   "metadata": {},
   "outputs": [
    {
     "name": "stdout",
     "output_type": "stream",
     "text": [
      "After the pop: {'brand': 'Ford', 'year': 1964}\n",
      "After the Del: {'model': 'Mustang', 'year': 1964}\n"
     ]
    }
   ],
   "source": [
    "#Remove items\n",
    "dict = {\n",
    "  \"brand\": \"Ford\",\n",
    "  \"model\": \"Mustang\",\n",
    "  \"year\": 1964\n",
    "}\n",
    "dict.pop(\"model\") #using pop function\n",
    "print(\"After the pop:\",dict)\n",
    "\n",
    "\n",
    "dict =\t{\n",
    "  \"brand\": \"Ford\",\n",
    "  \"model\": \"Mustang\",\n",
    "  \"year\": 1964\n",
    "}\n",
    "del dict[\"brand\"] #using del() function\n",
    "print(\"After the Del:\",dict)\n",
    "\n"
   ]
  },
  {
   "cell_type": "markdown",
   "metadata": {},
   "source": [
    "# 6. Working with Nested Dictionaries \n",
    "- Nested Dictionaries: A dictionary that contains multiple dictionaries as values.\n",
    "- Accessing Values: Use multiple keys to retrieve nested data.\n",
    "- Using .items(): Returns a list of key-value pairs in tuple format."
   ]
  },
  {
   "cell_type": "code",
   "execution_count": 9,
   "metadata": {},
   "outputs": [
    {
     "name": "stdout",
     "output_type": "stream",
     "text": [
      "Name of Member3: Orhan Ali Khan\n",
      "Dictionary items in tuple format: dict_items([('Member1', {'Name': 'Ali', 'Age': 25, 'Height': 6.1, 'Married': True}), ('Member2', {'Name': 'Mahrukh Ali Khan', 'Age': 24, 'Height': 5.6, 'Married': True}), ('Member3', {'Name': 'Orhan Ali Khan', 'Age': 1, 'Height': 1.0, 'Married': False})])\n"
     ]
    }
   ],
   "source": [
    "# Nested Dictionary\n",
    "family = {\n",
    "    \"Member1\": {\n",
    "        \"Name\": \"Ali\",\n",
    "        \"Age\": 25,\n",
    "        \"Height\": 6.1,\n",
    "        \"Married\": True\n",
    "    },\n",
    "    \"Member2\": {\n",
    "        \"Name\": \"Mahrukh Ali Khan\",\n",
    "        \"Age\": 24,\n",
    "        \"Height\": 5.6,\n",
    "        \"Married\": True\n",
    "    },\n",
    "    \"Member3\": {\n",
    "        \"Name\": \"Orhan Ali Khan\",\n",
    "        \"Age\": 1,\n",
    "        \"Height\": 1.0,\n",
    "        \"Married\": False\n",
    "    }\n",
    "}\n",
    "\n",
    "# Accessing Nested Dictionary items\n",
    "print(\"Name of Member3:\", family[\"Member3\"][\"Name\"])\n",
    "\n",
    "# Using .items() function\n",
    "print(\"Dictionary items in tuple format:\", family.items())"
   ]
  },
  {
   "cell_type": "markdown",
   "metadata": {},
   "source": [
    "# 7. Looping Through Dictionaries \n",
    "- Using .items(): Extracts key-value pairs from a dictionary.\n",
    "- Looping Through a Dictionary: Iterates over keys and values simultaneously.\n",
    "- Looping Through Nested Dictionaries: Iterates through each dictionary inside another dictionary"
   ]
  },
  {
   "cell_type": "code",
   "execution_count": 2,
   "metadata": {},
   "outputs": [
    {
     "name": "stdout",
     "output_type": "stream",
     "text": [
      "Member1: {'Name': 'Ali', 'Age': 25, 'Height': 6.1, 'Married': True}\n",
      "Member2: {'Name': 'Mahrukh Ali Khan', 'Age': 24, 'Height': 5.6, 'Married': True}\n",
      "Member3: {'Name': 'Orhan Ali Khan', 'Age': 1, 'Height': 1.0, 'Married': False}\n",
      "Details of {member}:\n",
      "  Name: Ali\n",
      "  Age: 25\n",
      "  Height: 6.1\n",
      "  Married: True\n",
      "Details of {member}:\n",
      "  Name: Mahrukh Ali Khan\n",
      "  Age: 24\n",
      "  Height: 5.6\n",
      "  Married: True\n",
      "Details of {member}:\n",
      "  Name: Orhan Ali Khan\n",
      "  Age: 1\n",
      "  Height: 1.0\n",
      "  Married: False\n"
     ]
    }
   ],
   "source": [
    "# Looping through dictionary\n",
    "family = {\n",
    "    \"Member1\": {\n",
    "        \"Name\": \"Ali\",\n",
    "        \"Age\": 25,\n",
    "        \"Height\": 6.1,\n",
    "        \"Married\": True\n",
    "    },\n",
    "    \"Member2\": {\n",
    "        \"Name\": \"Mahrukh Ali Khan\",\n",
    "        \"Age\": 24,\n",
    "        \"Height\": 5.6,\n",
    "        \"Married\": True\n",
    "    },\n",
    "    \"Member3\": {\n",
    "        \"Name\": \"Orhan Ali Khan\",\n",
    "        \"Age\": 1,\n",
    "        \"Height\": 1.0,\n",
    "        \"Married\": False\n",
    "    }\n",
    "}\n",
    "\n",
    "for key, value in family.items():\n",
    "    print(f\"{key}: {value}\")\n",
    "\n",
    "# Looping through nested dictionary\n",
    "for member, details in family.items():\n",
    "    print(\"Details of {member}:\")\n",
    "    for key, value in details.items():\n",
    "        print(f\"  {key}: {value}\")\n",
    "\n"
   ]
  }
 ],
 "metadata": {
  "kernelspec": {
   "display_name": "Python 3",
   "language": "python",
   "name": "python3"
  },
  "language_info": {
   "codemirror_mode": {
    "name": "ipython",
    "version": 3
   },
   "file_extension": ".py",
   "mimetype": "text/x-python",
   "name": "python",
   "nbconvert_exporter": "python",
   "pygments_lexer": "ipython3",
   "version": "3.10.0"
  }
 },
 "nbformat": 4,
 "nbformat_minor": 2
}
